{
 "cells": [
  {
   "cell_type": "code",
   "execution_count": 70,
   "metadata": {
    "collapsed": true
   },
   "outputs": [],
   "source": [
    "import numpy as np\n",
    "import random\n",
    "import pandas as pd\n",
    "import matplotlib.pyplot as plt\n",
    "from sklearn.metrics import accuracy_score"
   ]
  },
  {
   "cell_type": "markdown",
   "metadata": {},
   "source": [
    "# Generate Random Training Data\n",
    "\n",
    "Genering 200 data points with 2 features.100 with label -1 and 100 with label 1. The data is generated using python random library with the uniform() function. The value range for either of the labels may be modified easily by changing min1, max1, min2 and max2 values. The number of data points may be changed by changing the count value. Default values have been set to 100."
   ]
  },
  {
   "cell_type": "code",
   "execution_count": 9,
   "metadata": {
    "collapsed": true
   },
   "outputs": [],
   "source": [
    "def data_gen(min1, max1, min2, max2, label, count):\n",
    "    X = []\n",
    "    y = []\n",
    "    for i in range(count):\n",
    "        X.append([random.uniform(min1,max1),\n",
    "                     random.uniform(min2,max2)])\n",
    "        y.append(label)\n",
    "    return X,y"
   ]
  },
  {
   "cell_type": "code",
   "execution_count": 63,
   "metadata": {},
   "outputs": [
    {
     "name": "stdout",
     "output_type": "stream",
     "text": [
      "Features shape (200, 2)\n",
      "Labels shape (200,)\n"
     ]
    },
    {
     "data": {
      "image/png": "[encoded data removed]",
      "text/plain": [
       "<matplotlib.figure.Figure at 0x21a3047e6d8>"
      ]
     },
     "metadata": {},
     "output_type": "display_data"
    }
   ],
   "source": [
    "X, y = data_gen(min1 = 1 ,max1 = 2,\n",
    "                  min2 = 1,max2 = 2,\n",
    "                  label = -1,count = 100)\n",
    "X2, y2 = data_gen(min1 = 3, max1 = 4,\n",
    "                 min2 = 3, max2 = 4,\n",
    "                 label=1, count = 100)\n",
    "X = np.array(X)\n",
    "X2 = np.array(X2)\n",
    "X = np.concatenate((X,X2),axis=0)\n",
    "y2 = np.array(y2)\n",
    "y = np.array(y)\n",
    "y = np.append(y,y2)\n",
    "print(\"Features shape\", X.shape)\n",
    "print(\"Labels shape\", y.shape)\n",
    "\n",
    "plt.scatter(X[:100,0],X[:100,1],label='-1')\n",
    "plt.scatter(X[100:200,0],X[100:200,1],label='1')\n",
    "plt.xlabel(\"x1\")\n",
    "plt.ylabel(\"x2\")\n",
    "plt.legend(loc='upper left')\n",
    "plt.title(\"Training data\")\n",
    "plt.show()"
   ]
  },
  {
   "cell_type": "markdown",
   "metadata": {},
   "source": [
    "# Generate Random Test Data\n",
    "\n",
    "The test data has been made with the two clusters having more variance to find out how well the Perceptron model has fitted the line between the two clusters. The test data size is set to 100."
   ]
  },
  {
   "cell_type": "code",
   "execution_count": 65,
   "metadata": {},
   "outputs": [
    {
     "name": "stdout",
     "output_type": "stream",
     "text": [
      "Features shape (100, 2)\n",
      "Labels shape (100,)\n"
     ]
    },
    {
     "data": {
      "image/png": "[encoded data removed]",
      "text/plain": [
       "<matplotlib.figure.Figure at 0x21a3047eb70>"
      ]
     },
     "metadata": {},
     "output_type": "display_data"
    }
   ],
   "source": [
    "X_test, y_test = data_gen(min1 = 0.5 ,max1 = 2.5,\n",
    "                  min2 = 0.5,max2 = 2.5,\n",
    "                  label = -1,count = 50)\n",
    "X2_test, y2_test = data_gen(min1 = 2.5, max1 = 4.5,\n",
    "                 min2 = 2.5, max2 = 4.5,\n",
    "                 label=1, count = 50)\n",
    "X_test = np.array(X_test)\n",
    "X2_test = np.array(X2_test)\n",
    "X_test = np.concatenate((X_test,X2_test),axis=0)\n",
    "y2_test = np.array(y2_test)\n",
    "y_test = np.array(y_test)\n",
    "y_test = np.append(y_test,y2_test)\n",
    "print(\"Features shape\", X_test.shape)\n",
    "print(\"Labels shape\", y_test.shape)\n",
    "\n",
    "plt.scatter(X_test[:50,0],X_test[:50,1],label='-1')\n",
    "plt.scatter(X_test[50:100,0],X_test[50:100,1],label='1')\n",
    "plt.xlabel(\"x1\")\n",
    "plt.ylabel(\"x2\")\n",
    "plt.legend(loc='upper left')\n",
    "plt.title(\"Test data\")\n",
    "plt.show()"
   ]
  },
  {
   "cell_type": "markdown",
   "metadata": {},
   "source": [
    "# Perceptron\n",
    "The perceptron model is based on the Perceptron code in Python Machine Learning by Sebastian Raschka. Variable eta sets the learning rate and n_iter sets the number of iterations to be done for learning."
   ]
  },
  {
   "cell_type": "code",
   "execution_count": 59,
   "metadata": {},
   "outputs": [],
   "source": [
    "\n",
    "class Perceptron(object):\n",
    "    def __init__(self, eta=0.01, n_iter = 10):\n",
    "        self.eta = eta\n",
    "        self.n_iter = n_iter\n",
    "    \n",
    "    def fit(self, X, y):\n",
    "        self.w_ = np.zeros(X.shape[1] + 1)\n",
    "        self.errors_ = []\n",
    "        for _ in range(self.n_iter):\n",
    "            errors = 0\n",
    "            for xi, target in zip(X,y):\n",
    "                update = self.eta * (target - self.predict(xi))\n",
    "                self.w_[1:] += update * xi\n",
    "                self.w_[0] += update\n",
    "                errors += int(update != 0.0)\n",
    "            self.errors_.append(errors)\n",
    "        return self\n",
    "    \n",
    "    def net_input(self, X):\n",
    "        return np.dot(X, self.w_[1:]) + self.w_[0]\n",
    "    \n",
    "    def predict(self, X):\n",
    "        return np.where(self.net_input(X) >= 0.0, 1, -1)"
   ]
  },
  {
   "cell_type": "code",
   "execution_count": 67,
   "metadata": {},
   "outputs": [
    {
     "data": {
      "image/png": "[encoded data removed]",
      "text/plain": [
       "<matplotlib.figure.Figure at 0x21a304b8e80>"
      ]
     },
     "metadata": {},
     "output_type": "display_data"
    }
   ],
   "source": [
    "ppn = Perceptron(eta=0.1, n_iter=10)\n",
    "ppn.fit(X, y)\n",
    "plt.plot(range(1, len(ppn.errors_) + 1), ppn.errors_, marker='o')\n",
    "plt.ylabel('Misclassifications')\n",
    "plt.title(\"Number of misclassifications on each iteration\")\n",
    "plt.show()"
   ]
  },
  {
   "cell_type": "code",
   "execution_count": 71,
   "metadata": {},
   "outputs": [
    {
     "name": "stdout",
     "output_type": "stream",
     "text": [
      "Correct predictions 0.91\n"
     ]
    }
   ],
   "source": [
    "prediction = ppn.predict(X_test)\n",
    "correct = accuracy_score(y_test, prediction)\n",
    "print(\"Correct predictions\", correct)"
   ]
  },
  {
   "cell_type": "code",
   "execution_count": null,
   "metadata": {
    "collapsed": true
   },
   "outputs": [],
   "source": []
  }
 ],
 "metadata": {
  "kernelspec": {
   "display_name": "Python 3",
   "language": "python",
   "name": "python3"
  },
  "language_info": {
   "codemirror_mode": {
    "name": "ipython",
    "version": 3
   },
   "file_extension": ".py",
   "mimetype": "text/x-python",
   "name": "python",
   "nbconvert_exporter": "python",
   "pygments_lexer": "ipython3",
   "version": "3.6.3"
  }
 },
 "nbformat": 4,
 "nbformat_minor": 2
}
